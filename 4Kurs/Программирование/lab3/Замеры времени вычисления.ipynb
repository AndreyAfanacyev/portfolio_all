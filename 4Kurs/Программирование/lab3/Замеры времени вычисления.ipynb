{
 "cells": [
  {
   "cell_type": "markdown",
   "id": "16c0b3a5",
   "metadata": {},
   "source": [
    "# Лабораторные работы 1-3. Замеры времени вычисления"
   ]
  },
  {
   "cell_type": "markdown",
   "id": "bcfadb8f",
   "metadata": {},
   "source": [
    "## ЛР 1 и 2"
   ]
  },
  {
   "cell_type": "code",
   "execution_count": 1,
   "id": "0f712ad1",
   "metadata": {},
   "outputs": [],
   "source": [
    "def integrate(f, a: float, b: float, *, n_iter: int = 1000):\n",
    "    if a == b:\n",
    "        return 0\n",
    "\n",
    "    # вычисление по методу трапеций\n",
    "    h = (b - a) / n_iter\n",
    "    s = (f(a) + f(b)) / 2\n",
    "    x = a + h\n",
    "    \n",
    "    for i in range(int(n_iter)-1):\n",
    "        s += f(x + i*h)\n",
    "    \n",
    "    result = h * s\n",
    "    return float(round(result, 8))"
   ]
  },
  {
   "cell_type": "code",
   "execution_count": 2,
   "id": "93c69424",
   "metadata": {},
   "outputs": [
    {
     "name": "stdout",
     "output_type": "stream",
     "text": [
      "1.47 ms ± 208 µs per loop (mean ± std. dev. of 10 runs, 100 loops each)\n",
      "13.4 ms ± 121 µs per loop (mean ± std. dev. of 10 runs, 100 loops each)\n",
      "136 ms ± 3.61 ms per loop (mean ± std. dev. of 10 runs, 100 loops each)\n"
     ]
    }
   ],
   "source": [
    "import math\n",
    "\n",
    "%timeit -n100 -r10 integrate(math.atan, 0, math.pi / 2, n_iter=10**4)\n",
    "%timeit -n100 -r10 integrate(math.atan, 0, math.pi / 2, n_iter=10**5)\n",
    "%timeit -n100 -r10 integrate(math.atan, 0, math.pi / 2, n_iter=10**6)"
   ]
  },
  {
   "cell_type": "code",
   "execution_count": 3,
   "id": "52ec5d24",
   "metadata": {},
   "outputs": [],
   "source": [
    "import concurrent.futures as ftres\n",
    "\n",
    "def integrate_async(f, a: float, b: float, *, n_jobs: int = 2, n_iter: int = 1000):\n",
    "    executor = ftres.ThreadPoolExecutor(max_workers=n_jobs) # потоки\n",
    "    step = (b - a) / n_jobs # шаг вычисления интеграла, кол-во частей равно кол-ву потоков\n",
    "\n",
    "    fs = [(a + i * step, a + (i + 1) * step) for i in range(n_jobs)] # интервалы для каждого потока\n",
    "    spawn_lst = [executor.submit(integrate, f, *interval, n_iter=n_iter // n_jobs) for interval in fs] # запуск вычислений в потоках, кол-во итераций n_iter делится на кол-во потоков\n",
    "    s = [r.result() for r in ftres.as_completed(spawn_lst)] # сохранение значений интерграла на интервалах\n",
    "    \n",
    "    return sum(s) # значение интеграла - сумма значений на каждом интервале, вычисленном в отдельном потоке"
   ]
  },
  {
   "cell_type": "code",
   "execution_count": 4,
   "id": "468d06fd",
   "metadata": {},
   "outputs": [
    {
     "name": "stdout",
     "output_type": "stream",
     "text": [
      "2.43 ms ± 79.4 µs per loop (mean ± std. dev. of 10 runs, 100 loops each)\n",
      "18.3 ms ± 550 µs per loop (mean ± std. dev. of 10 runs, 100 loops each)\n",
      "241 ms ± 5.71 ms per loop (mean ± std. dev. of 10 runs, 100 loops each)\n"
     ]
    }
   ],
   "source": [
    "# n_jobs = 2\n",
    "%timeit -n100 -r10 integrate_async(math.atan, 0, math.pi / 2, n_iter=10**4)\n",
    "%timeit -n100 -r10 integrate_async(math.atan, 0, math.pi / 2, n_iter=10**5)\n",
    "%timeit -n100 -r10 integrate_async(math.atan, 0, math.pi / 2, n_iter=10**6)"
   ]
  },
  {
   "cell_type": "code",
   "execution_count": 5,
   "id": "82e0cf15",
   "metadata": {},
   "outputs": [
    {
     "name": "stdout",
     "output_type": "stream",
     "text": [
      "3.05 ms ± 59.6 µs per loop (mean ± std. dev. of 10 runs, 100 loops each)\n",
      "19.5 ms ± 410 µs per loop (mean ± std. dev. of 10 runs, 100 loops each)\n",
      "262 ms ± 3.69 ms per loop (mean ± std. dev. of 10 runs, 100 loops each)\n"
     ]
    }
   ],
   "source": [
    "# n_jobs = 4\n",
    "%timeit -n100 -r10 integrate_async(math.atan, 0, math.pi / 2, n_jobs=4, n_iter=10**4)\n",
    "%timeit -n100 -r10 integrate_async(math.atan, 0, math.pi / 2, n_jobs=4, n_iter=10**5)\n",
    "%timeit -n100 -r10 integrate_async(math.atan, 0, math.pi / 2, n_jobs=4, n_iter=10**6)"
   ]
  },
  {
   "cell_type": "code",
   "execution_count": 6,
   "id": "748a42ad",
   "metadata": {},
   "outputs": [
    {
     "name": "stdout",
     "output_type": "stream",
     "text": [
      "3.13 ms ± 153 µs per loop (mean ± std. dev. of 10 runs, 100 loops each)\n",
      "20.1 ms ± 487 µs per loop (mean ± std. dev. of 10 runs, 100 loops each)\n",
      "257 ms ± 3.17 ms per loop (mean ± std. dev. of 10 runs, 100 loops each)\n"
     ]
    }
   ],
   "source": [
    "# n_jobs = 6\n",
    "%timeit -n100 -r10 integrate_async(math.atan, 0, math.pi / 2, n_jobs=6, n_iter=10**4)\n",
    "%timeit -n100 -r10 integrate_async(math.atan, 0, math.pi / 2, n_jobs=6, n_iter=10**5)\n",
    "%timeit -n100 -r10 integrate_async(math.atan, 0, math.pi / 2, n_jobs=6, n_iter=10**6)"
   ]
  },
  {
   "cell_type": "markdown",
   "id": "19fdea34",
   "metadata": {},
   "source": [
    "## ЛР 3. Cython"
   ]
  },
  {
   "cell_type": "code",
   "execution_count": 7,
   "id": "0e1cd71f",
   "metadata": {},
   "outputs": [],
   "source": [
    "%load_ext Cython"
   ]
  },
  {
   "cell_type": "code",
   "execution_count": 8,
   "id": "5609084d",
   "metadata": {},
   "outputs": [],
   "source": [
    "%%cython\n",
    "\n",
    "from cython.parallel import prange # параллельный range\n",
    "from libc.math cimport atan # функция стандартной библиотеки C\n",
    "\n",
    "\n",
    "ctypedef double (*func)(double x) nogil # объявление типа функции (аргумент f функции integrate)\n",
    "# nogil - выключен GIL, т.к. из integrate - nogil-функции - нельзя вызвать функцию с включённым GIL\n",
    "\n",
    "\n",
    "cdef double integrate(func f, float a, float b, int n_iter = 1000) nogil:\n",
    "    # GIL выключен, вычисление производится параллельно\n",
    "    # тип double - для повышения точности вычисления\n",
    "    # f - Cython-функция, т.к. из Cython-функции нельзя вызвать функцию Python\n",
    "    \n",
    "    # значение интеграла на интервале, имеющем длину 0, равно 0\n",
    "    if a == b:\n",
    "        return 0\n",
    "\n",
    "    # вычисление по методу трапеций\n",
    "    cdef double s = (f(a) + f(b)) / 2\n",
    "    cdef double h = (b - a) / n_iter\n",
    "    cdef double x = a + h\n",
    "    \n",
    "    cdef int i\n",
    "    for i in prange(n_iter - 1):\n",
    "        s += f(x + i * h)\n",
    "        \n",
    "    cdef double result = h * s\n",
    "    \n",
    "    return result\n",
    "\n",
    "\n",
    "cpdef integrate_function(a, b, n_iter):\n",
    "    # функцию cpdef можно вызвать из функций Python и Cython\n",
    "    # сделана для timeit\n",
    "    # нельзя вынести в другую ячейку, т.к. функцию Cython можно вызвать только в той же ячейке\n",
    "    return integrate(atan, a, b, n_iter)\n"
   ]
  },
  {
   "cell_type": "code",
   "execution_count": 9,
   "id": "5f76457d",
   "metadata": {},
   "outputs": [
    {
     "name": "stdout",
     "output_type": "stream",
     "text": [
      "236 µs ± 2.51 µs per loop (mean ± std. dev. of 10 runs, 100 loops each)\n",
      "1.91 ms ± 34.5 µs per loop (mean ± std. dev. of 10 runs, 100 loops each)\n",
      "18.8 ms ± 570 µs per loop (mean ± std. dev. of 10 runs, 100 loops each)\n"
     ]
    }
   ],
   "source": [
    "%timeit -n100 -r10 integrate_function(0, math.pi / 2, n_iter=10**4)\n",
    "%timeit -n100 -r10 integrate_function(0, math.pi / 2, n_iter=10**5)\n",
    "%timeit -n100 -r10 integrate_function(0, math.pi / 2, n_iter=10**6)"
   ]
  },
  {
   "cell_type": "markdown",
   "id": "47dce651",
   "metadata": {},
   "source": [
    "## ЛР 3. Joblib"
   ]
  },
  {
   "cell_type": "code",
   "execution_count": 10,
   "id": "1ac1f7c5",
   "metadata": {},
   "outputs": [],
   "source": [
    "# функция из ЛР 1\n",
    "def integrate(f, a: float, b: float, *, n_iter: int = 1000):\n",
    "    if a == b:\n",
    "        return 0\n",
    "\n",
    "    # вычисление по методу трапеций\n",
    "    h = (b - a) / n_iter\n",
    "    s = (f(a) + f(b)) / 2\n",
    "    x = a + h\n",
    "    \n",
    "    for i in range(int(n_iter)-1):\n",
    "        s += f(x + i*h)\n",
    "    \n",
    "    result = h * s\n",
    "    return float(round(result, 8))"
   ]
  },
  {
   "cell_type": "code",
   "execution_count": 11,
   "id": "b18a122c",
   "metadata": {},
   "outputs": [],
   "source": [
    "from joblib import Parallel, delayed\n",
    "\n",
    "def integrate_async(f, a: float, b: float, *, n_jobs: int = 2, n_iter: int = 1000, backend='threading'):\n",
    "    step = (b - a) / n_jobs # шаг вычисления интеграла, кол-во частей равно кол-ву потоков\n",
    "\n",
    "    with Parallel(n_jobs=n_jobs, backend=backend) as p:\n",
    "        # каждый поток вычисляет значение интеграла на части интервала\n",
    "        # кол-во итераций n_iter делится на кол-во потоков\n",
    "        fs = (delayed(integrate)(f, a + i * step, a + (i + 1) * step, n_iter=n_iter // n_jobs)\n",
    "              for i in range(n_jobs))\n",
    "        return sum(p(fs)) # значение интеграла - сумма значений на каждом интервале, вычисленном в отдельном потоке\n"
   ]
  },
  {
   "cell_type": "markdown",
   "id": "bd098207",
   "metadata": {},
   "source": [
    "Потоки (backend=threading)"
   ]
  },
  {
   "cell_type": "code",
   "execution_count": 12,
   "id": "60a97fbf",
   "metadata": {},
   "outputs": [
    {
     "name": "stdout",
     "output_type": "stream",
     "text": [
      "3.96 ms ± 224 µs per loop (mean ± std. dev. of 10 runs, 100 loops each)\n",
      "21.8 ms ± 201 µs per loop (mean ± std. dev. of 10 runs, 100 loops each)\n",
      "259 ms ± 3.53 ms per loop (mean ± std. dev. of 10 runs, 100 loops each)\n"
     ]
    }
   ],
   "source": [
    "# n_jobs = 2\n",
    "%timeit -n100 -r10 integrate_async(math.atan, 0, math.pi / 2, n_iter=10**4)\n",
    "%timeit -n100 -r10 integrate_async(math.atan, 0, math.pi / 2, n_iter=10**5)\n",
    "%timeit -n100 -r10 integrate_async(math.atan, 0, math.pi / 2, n_iter=10**6)"
   ]
  },
  {
   "cell_type": "code",
   "execution_count": 13,
   "id": "afafd541",
   "metadata": {},
   "outputs": [
    {
     "name": "stdout",
     "output_type": "stream",
     "text": [
      "4.37 ms ± 501 µs per loop (mean ± std. dev. of 10 runs, 100 loops each)\n",
      "23.1 ms ± 449 µs per loop (mean ± std. dev. of 10 runs, 100 loops each)\n",
      "277 ms ± 4.74 ms per loop (mean ± std. dev. of 10 runs, 100 loops each)\n"
     ]
    }
   ],
   "source": [
    "# n_jobs = 4\n",
    "%timeit -n100 -r10 integrate_async(math.atan, 0, math.pi / 2, n_jobs=4, n_iter=10**4)\n",
    "%timeit -n100 -r10 integrate_async(math.atan, 0, math.pi / 2, n_jobs=4, n_iter=10**5)\n",
    "%timeit -n100 -r10 integrate_async(math.atan, 0, math.pi / 2, n_jobs=4, n_iter=10**6)"
   ]
  },
  {
   "cell_type": "code",
   "execution_count": 14,
   "id": "6bdc7b29",
   "metadata": {},
   "outputs": [
    {
     "name": "stdout",
     "output_type": "stream",
     "text": [
      "4.68 ms ± 336 µs per loop (mean ± std. dev. of 10 runs, 100 loops each)\n",
      "23.9 ms ± 370 µs per loop (mean ± std. dev. of 10 runs, 100 loops each)\n",
      "287 ms ± 3.68 ms per loop (mean ± std. dev. of 10 runs, 100 loops each)\n"
     ]
    }
   ],
   "source": [
    "# n_jobs = 6\n",
    "%timeit -n100 -r10 integrate_async(math.atan, 0, math.pi / 2, n_jobs=6, n_iter=10**4)\n",
    "%timeit -n100 -r10 integrate_async(math.atan, 0, math.pi / 2, n_jobs=6, n_iter=10**5)\n",
    "%timeit -n100 -r10 integrate_async(math.atan, 0, math.pi / 2, n_jobs=6, n_iter=10**6)"
   ]
  },
  {
   "cell_type": "markdown",
   "id": "737065f4",
   "metadata": {},
   "source": [
    "Процессы (backend=mutliprocessing)"
   ]
  },
  {
   "cell_type": "code",
   "execution_count": 15,
   "id": "c0bfeed9",
   "metadata": {},
   "outputs": [
    {
     "name": "stdout",
     "output_type": "stream",
     "text": [
      "41.5 ms ± 1.17 ms per loop (mean ± std. dev. of 10 runs, 100 loops each)\n",
      "54.1 ms ± 2.24 ms per loop (mean ± std. dev. of 10 runs, 100 loops each)\n",
      "143 ms ± 2.54 ms per loop (mean ± std. dev. of 10 runs, 100 loops each)\n"
     ]
    }
   ],
   "source": [
    "# n_jobs = 2\n",
    "%timeit -n100 -r10 integrate_async(math.atan, 0, math.pi / 2, n_iter=10**4, backend='multiprocessing')\n",
    "%timeit -n100 -r10 integrate_async(math.atan, 0, math.pi / 2, n_iter=10**5, backend='multiprocessing')\n",
    "%timeit -n100 -r10 integrate_async(math.atan, 0, math.pi / 2, n_iter=10**6, backend='multiprocessing')"
   ]
  },
  {
   "cell_type": "code",
   "execution_count": 16,
   "id": "68fba6ec",
   "metadata": {},
   "outputs": [
    {
     "name": "stdout",
     "output_type": "stream",
     "text": [
      "50.5 ms ± 2.03 ms per loop (mean ± std. dev. of 10 runs, 100 loops each)\n",
      "60.7 ms ± 2.88 ms per loop (mean ± std. dev. of 10 runs, 100 loops each)\n",
      "114 ms ± 1.77 ms per loop (mean ± std. dev. of 10 runs, 100 loops each)\n"
     ]
    }
   ],
   "source": [
    "# n_jobs = 4\n",
    "%timeit -n100 -r10 integrate_async(math.atan, 0, math.pi / 2, n_jobs=4, n_iter=10**4, backend='multiprocessing')\n",
    "%timeit -n100 -r10 integrate_async(math.atan, 0, math.pi / 2, n_jobs=4, n_iter=10**5, backend='multiprocessing')\n",
    "%timeit -n100 -r10 integrate_async(math.atan, 0, math.pi / 2, n_jobs=4, n_iter=10**6, backend='multiprocessing')"
   ]
  },
  {
   "cell_type": "code",
   "execution_count": 17,
   "id": "8fa45c03",
   "metadata": {},
   "outputs": [
    {
     "name": "stdout",
     "output_type": "stream",
     "text": [
      "61.4 ms ± 1.77 ms per loop (mean ± std. dev. of 10 runs, 100 loops each)\n",
      "69.1 ms ± 995 µs per loop (mean ± std. dev. of 10 runs, 100 loops each)\n",
      "108 ms ± 1.79 ms per loop (mean ± std. dev. of 10 runs, 100 loops each)\n"
     ]
    }
   ],
   "source": [
    "# n_jobs = 6\n",
    "%timeit -n100 -r10 integrate_async(math.atan, 0, math.pi / 2, n_jobs=6, n_iter=10**4, backend='multiprocessing')\n",
    "%timeit -n100 -r10 integrate_async(math.atan, 0, math.pi / 2, n_jobs=6, n_iter=10**5, backend='multiprocessing')\n",
    "%timeit -n100 -r10 integrate_async(math.atan, 0, math.pi / 2, n_jobs=6, n_iter=10**6, backend='multiprocessing')"
   ]
  }
 ],
 "metadata": {
  "kernelspec": {
   "display_name": "Python 3 (ipykernel)",
   "language": "python",
   "name": "python3"
  },
  "language_info": {
   "codemirror_mode": {
    "name": "ipython",
    "version": 3
   },
   "file_extension": ".py",
   "mimetype": "text/x-python",
   "name": "python",
   "nbconvert_exporter": "python",
   "pygments_lexer": "ipython3",
   "version": "3.9.2"
  }
 },
 "nbformat": 4,
 "nbformat_minor": 5
}
