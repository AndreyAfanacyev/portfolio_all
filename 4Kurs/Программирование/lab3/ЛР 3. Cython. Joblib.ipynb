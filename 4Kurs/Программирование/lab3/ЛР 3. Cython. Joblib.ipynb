{
 "cells": [
  {
   "cell_type": "markdown",
   "id": "82d586fe",
   "metadata": {},
   "source": [
    "# Лабораторная работа 3"
   ]
  },
  {
   "cell_type": "markdown",
   "id": "4ff15c07",
   "metadata": {},
   "source": [
    "## Cython"
   ]
  },
  {
   "cell_type": "code",
   "execution_count": 1,
   "id": "d8474654",
   "metadata": {},
   "outputs": [],
   "source": [
    "%load_ext Cython"
   ]
  },
  {
   "cell_type": "code",
   "execution_count": 2,
   "id": "60aeff90",
   "metadata": {},
   "outputs": [],
   "source": [
    "%%cython\n",
    "\n",
    "from cython.parallel import prange # параллельный range\n",
    "from libc.math cimport sin # функция стандартной библиотеки C\n",
    "\n",
    "\n",
    "ctypedef double (*func)(double x) nogil # объявление типа функции (аргумент f функции integrate)\n",
    "# nogil - выключен GIL, т.к. из integrate - nogil-функции - нельзя вызвать функцию с включённым GIL\n",
    "\n",
    "\n",
    "cdef double integrate(func f, float a, float b, int n_iter = 1000) nogil:\n",
    "    # GIL выключен, вычисление производится параллельно\n",
    "    # тип double - для повышения точности вычисления\n",
    "    # f - Cython-функция, т.к. из Cython-функции нельзя вызвать функцию Python\n",
    "    \n",
    "    # значение интеграла на интервале, имеющем длину 0, равно 0\n",
    "    if a == b:\n",
    "        return 0\n",
    "\n",
    "    # вычисление по методу трапеций\n",
    "    cdef double s = (f(a) + f(b)) / 2\n",
    "    cdef double h = (b - a) / n_iter\n",
    "    cdef double x = a + h\n",
    "    \n",
    "    cdef int i\n",
    "    for i in prange(n_iter - 1):\n",
    "        s += f(x + i * h)\n",
    "        \n",
    "    cdef double result = h * s\n",
    "    \n",
    "    return result\n",
    "\n",
    "\n",
    "cpdef integrate_function(a, b, n_iter):\n",
    "    # функцию cpdef можно вызвать из функций Python и Cython\n",
    "    # сделана для timeit\n",
    "    # нельзя вынести в другую ячейку, т.к. функцию Cython можно вызвать только в той же ячейке\n",
    "    return integrate(sin, a, b, n_iter)\n"
   ]
  },
  {
   "cell_type": "code",
   "execution_count": 3,
   "id": "46d539b0",
   "metadata": {},
   "outputs": [
    {
     "data": {
      "text/plain": [
       "1.3793736617540613"
      ]
     },
     "execution_count": 3,
     "metadata": {},
     "output_type": "execute_result"
    }
   ],
   "source": [
    "# проверка\n",
    "integrate_function(1, 10, n_iter=10**6)"
   ]
  },
  {
   "cell_type": "markdown",
   "id": "c46c3747",
   "metadata": {},
   "source": [
    "## Joblib"
   ]
  },
  {
   "cell_type": "code",
   "execution_count": 4,
   "id": "1371f095",
   "metadata": {},
   "outputs": [],
   "source": [
    "# функция из ЛР 1\n",
    "def integrate(f, a: float, b: float, *, n_iter: int = 1000):\n",
    "    if a == b:\n",
    "        return 0\n",
    "\n",
    "    # вычисление по методу трапеций\n",
    "    h = (b - a) / n_iter\n",
    "    s = (f(a) + f(b)) / 2\n",
    "    x = a + h\n",
    "    \n",
    "    for i in range(int(n_iter)-1):\n",
    "        s += f(x + i*h)\n",
    "    \n",
    "    result = h * s\n",
    "    return float(round(result, 8))"
   ]
  },
  {
   "cell_type": "code",
   "execution_count": 5,
   "id": "f55c1699",
   "metadata": {},
   "outputs": [],
   "source": [
    "from joblib import Parallel, delayed\n",
    "\n",
    "def integrate_async(f, a: float, b: float, *, n_jobs: int = 2, n_iter: int = 1000, backend='threading'):\n",
    "    step = (b - a) / n_jobs # шаг вычисления интеграла, кол-во частей равно кол-ву потоков\n",
    "\n",
    "    with Parallel(n_jobs=n_jobs, backend=backend) as p:\n",
    "        # каждый поток вычисляет значение интеграла на части интервала\n",
    "        # кол-во итераций n_iter делится на кол-во потоков\n",
    "        fs = (delayed(integrate)(f, a + i * step, a + (i + 1) * step, n_iter=n_iter // n_jobs)\n",
    "              for i in range(n_jobs))\n",
    "        return sum(p(fs)) # значение интеграла - сумма значений на каждом интервале, вычисленном в отдельном потоке\n"
   ]
  },
  {
   "cell_type": "code",
   "execution_count": 6,
   "id": "eba82621",
   "metadata": {},
   "outputs": [
    {
     "data": {
      "text/plain": [
       "1.37937383"
      ]
     },
     "execution_count": 6,
     "metadata": {},
     "output_type": "execute_result"
    }
   ],
   "source": [
    "# проверка\n",
    "import math\n",
    "\n",
    "integrate_async(math.sin, 1, 10, n_iter=10**6)"
   ]
  }
 ],
 "metadata": {
  "kernelspec": {
   "display_name": "Python 3 (ipykernel)",
   "language": "python",
   "name": "python3"
  },
  "language_info": {
   "codemirror_mode": {
    "name": "ipython",
    "version": 3
   },
   "file_extension": ".py",
   "mimetype": "text/x-python",
   "name": "python",
   "nbconvert_exporter": "python",
   "pygments_lexer": "ipython3",
   "version": "3.9.2"
  }
 },
 "nbformat": 4,
 "nbformat_minor": 5
}
